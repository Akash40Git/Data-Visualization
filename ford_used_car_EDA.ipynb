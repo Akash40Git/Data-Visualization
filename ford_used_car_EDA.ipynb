{
 "cells": [
  {
   "cell_type": "markdown",
   "id": "fd40df5b",
   "metadata": {},
   "source": [
    "Here I created a Pie Chart and a barplot for fuelType categorical variable. To create this properly I had to run\n",
    "some other codes. These are:\n",
    "    i) importing required libraries and packages.\n",
    "    ii) Reading a csv file as pandas data frame.\n",
    "    iii)Checking for missing values, data types of the columns.\n",
    "    iv)Counting the number of unique values present in the 'fuelType' column.\n",
    "    v)Finding the percentage of unique values present in the 'fuelType' column.\n",
    "\n",
    "    After watching the pie chart and the barplot I would say that the barplot is better than the pie chart.\n",
    "The reasons are:\n",
    "    a)There are five types of values in 'fuelType' categorical variable. A pie chart is best for 2 or 3 values. As there\n",
    "are 5 values that's why barplot is suitable for this categorical variable.\n",
    "    b)We know that barplot is suitable if there is one numeric value. As there is one numeric value that's why\n",
    "I selected barplot.\n",
    "    c)In this pie chart some values were overlapped. So we can call it's a bad data visualization. On the other hand, in the barplot values were not overlapped. \n",
    "    d)In first impression one can't see the difference in the pie chart values. On the other hand, one can easily\n",
    "determine the difference from the barplot.\n"
   ]
  },
  {
   "cell_type": "markdown",
   "id": "356a7561",
   "metadata": {},
   "source": [
    "# Importing required libraries and packages"
   ]
  },
  {
   "cell_type": "code",
   "execution_count": 18,
   "id": "9c57670c",
   "metadata": {},
   "outputs": [],
   "source": [
    "# for data analysis\n",
    "import numpy as np\n",
    "import pandas as pd\n",
    "\n",
    "# for data visualization\n",
    "import matplotlib.pyplot as plt\n",
    "import seaborn as sns"
   ]
  },
  {
   "cell_type": "markdown",
   "id": "6987e243",
   "metadata": {},
   "source": [
    "Reading a csv file as pandas DataFrame"
   ]
  },
  {
   "cell_type": "code",
   "execution_count": 19,
   "id": "04577d5c",
   "metadata": {},
   "outputs": [
    {
     "name": "stdout",
     "output_type": "stream",
     "text": [
      "<class 'pandas.core.frame.DataFrame'>\n"
     ]
    },
    {
     "data": {
      "text/html": [
       "<div>\n",
       "<style scoped>\n",
       "    .dataframe tbody tr th:only-of-type {\n",
       "        vertical-align: middle;\n",
       "    }\n",
       "\n",
       "    .dataframe tbody tr th {\n",
       "        vertical-align: top;\n",
       "    }\n",
       "\n",
       "    .dataframe thead th {\n",
       "        text-align: right;\n",
       "    }\n",
       "</style>\n",
       "<table border=\"1\" class=\"dataframe\">\n",
       "  <thead>\n",
       "    <tr style=\"text-align: right;\">\n",
       "      <th></th>\n",
       "      <th>model</th>\n",
       "      <th>year</th>\n",
       "      <th>price</th>\n",
       "      <th>transmission</th>\n",
       "      <th>mileage</th>\n",
       "      <th>fuelType</th>\n",
       "      <th>mpg</th>\n",
       "      <th>engineSize</th>\n",
       "    </tr>\n",
       "  </thead>\n",
       "  <tbody>\n",
       "    <tr>\n",
       "      <th>0</th>\n",
       "      <td>Fiesta</td>\n",
       "      <td>2017</td>\n",
       "      <td>12000</td>\n",
       "      <td>Automatic</td>\n",
       "      <td>15944</td>\n",
       "      <td>Petrol</td>\n",
       "      <td>57.7</td>\n",
       "      <td>1.0</td>\n",
       "    </tr>\n",
       "    <tr>\n",
       "      <th>1</th>\n",
       "      <td>Focus</td>\n",
       "      <td>2018</td>\n",
       "      <td>14000</td>\n",
       "      <td>Manual</td>\n",
       "      <td>9083</td>\n",
       "      <td>Petrol</td>\n",
       "      <td>57.7</td>\n",
       "      <td>1.0</td>\n",
       "    </tr>\n",
       "    <tr>\n",
       "      <th>2</th>\n",
       "      <td>Focus</td>\n",
       "      <td>2017</td>\n",
       "      <td>13000</td>\n",
       "      <td>Manual</td>\n",
       "      <td>12456</td>\n",
       "      <td>Petrol</td>\n",
       "      <td>57.7</td>\n",
       "      <td>1.0</td>\n",
       "    </tr>\n",
       "    <tr>\n",
       "      <th>3</th>\n",
       "      <td>Fiesta</td>\n",
       "      <td>2019</td>\n",
       "      <td>17500</td>\n",
       "      <td>Manual</td>\n",
       "      <td>10460</td>\n",
       "      <td>Petrol</td>\n",
       "      <td>40.3</td>\n",
       "      <td>1.5</td>\n",
       "    </tr>\n",
       "    <tr>\n",
       "      <th>4</th>\n",
       "      <td>Fiesta</td>\n",
       "      <td>2019</td>\n",
       "      <td>16500</td>\n",
       "      <td>Automatic</td>\n",
       "      <td>1482</td>\n",
       "      <td>Petrol</td>\n",
       "      <td>48.7</td>\n",
       "      <td>1.0</td>\n",
       "    </tr>\n",
       "    <tr>\n",
       "      <th>...</th>\n",
       "      <td>...</td>\n",
       "      <td>...</td>\n",
       "      <td>...</td>\n",
       "      <td>...</td>\n",
       "      <td>...</td>\n",
       "      <td>...</td>\n",
       "      <td>...</td>\n",
       "      <td>...</td>\n",
       "    </tr>\n",
       "    <tr>\n",
       "      <th>17959</th>\n",
       "      <td>Fiesta</td>\n",
       "      <td>2016</td>\n",
       "      <td>7999</td>\n",
       "      <td>Manual</td>\n",
       "      <td>31348</td>\n",
       "      <td>Petrol</td>\n",
       "      <td>54.3</td>\n",
       "      <td>1.2</td>\n",
       "    </tr>\n",
       "    <tr>\n",
       "      <th>17960</th>\n",
       "      <td>B-MAX</td>\n",
       "      <td>2017</td>\n",
       "      <td>8999</td>\n",
       "      <td>Manual</td>\n",
       "      <td>16700</td>\n",
       "      <td>Petrol</td>\n",
       "      <td>47.1</td>\n",
       "      <td>1.4</td>\n",
       "    </tr>\n",
       "    <tr>\n",
       "      <th>17961</th>\n",
       "      <td>B-MAX</td>\n",
       "      <td>2014</td>\n",
       "      <td>7499</td>\n",
       "      <td>Manual</td>\n",
       "      <td>40700</td>\n",
       "      <td>Petrol</td>\n",
       "      <td>57.7</td>\n",
       "      <td>1.0</td>\n",
       "    </tr>\n",
       "    <tr>\n",
       "      <th>17962</th>\n",
       "      <td>Focus</td>\n",
       "      <td>2015</td>\n",
       "      <td>9999</td>\n",
       "      <td>Manual</td>\n",
       "      <td>7010</td>\n",
       "      <td>Diesel</td>\n",
       "      <td>67.3</td>\n",
       "      <td>1.6</td>\n",
       "    </tr>\n",
       "    <tr>\n",
       "      <th>17963</th>\n",
       "      <td>KA</td>\n",
       "      <td>2018</td>\n",
       "      <td>8299</td>\n",
       "      <td>Manual</td>\n",
       "      <td>5007</td>\n",
       "      <td>Petrol</td>\n",
       "      <td>57.7</td>\n",
       "      <td>1.2</td>\n",
       "    </tr>\n",
       "  </tbody>\n",
       "</table>\n",
       "<p>17964 rows × 8 columns</p>\n",
       "</div>"
      ],
      "text/plain": [
       "         model  year  price transmission  mileage fuelType   mpg  engineSize\n",
       "0       Fiesta  2017  12000    Automatic    15944   Petrol  57.7         1.0\n",
       "1        Focus  2018  14000       Manual     9083   Petrol  57.7         1.0\n",
       "2        Focus  2017  13000       Manual    12456   Petrol  57.7         1.0\n",
       "3       Fiesta  2019  17500       Manual    10460   Petrol  40.3         1.5\n",
       "4       Fiesta  2019  16500    Automatic     1482   Petrol  48.7         1.0\n",
       "...        ...   ...    ...          ...      ...      ...   ...         ...\n",
       "17959   Fiesta  2016   7999       Manual    31348   Petrol  54.3         1.2\n",
       "17960    B-MAX  2017   8999       Manual    16700   Petrol  47.1         1.4\n",
       "17961    B-MAX  2014   7499       Manual    40700   Petrol  57.7         1.0\n",
       "17962    Focus  2015   9999       Manual     7010   Diesel  67.3         1.6\n",
       "17963       KA  2018   8299       Manual     5007   Petrol  57.7         1.2\n",
       "\n",
       "[17964 rows x 8 columns]"
      ]
     },
     "metadata": {},
     "output_type": "display_data"
    }
   ],
   "source": [
    "df = pd.read_csv(\"ford.csv\")\n",
    "print(type(df))\n",
    "display(df)"
   ]
  },
  {
   "cell_type": "markdown",
   "id": "2b178c87",
   "metadata": {},
   "source": [
    "Checking for missing values, data types of the columns"
   ]
  },
  {
   "cell_type": "code",
   "execution_count": 20,
   "id": "e8c05489",
   "metadata": {},
   "outputs": [
    {
     "name": "stdout",
     "output_type": "stream",
     "text": [
      "<class 'pandas.core.frame.DataFrame'>\n",
      "RangeIndex: 17964 entries, 0 to 17963\n",
      "Data columns (total 8 columns):\n",
      " #   Column        Non-Null Count  Dtype  \n",
      "---  ------        --------------  -----  \n",
      " 0   model         17964 non-null  object \n",
      " 1   year          17964 non-null  int64  \n",
      " 2   price         17964 non-null  int64  \n",
      " 3   transmission  17964 non-null  object \n",
      " 4   mileage       17964 non-null  int64  \n",
      " 5   fuelType      17964 non-null  object \n",
      " 6   mpg           17964 non-null  float64\n",
      " 7   engineSize    17964 non-null  float64\n",
      "dtypes: float64(2), int64(3), object(3)\n",
      "memory usage: 1.1+ MB\n"
     ]
    }
   ],
   "source": [
    "df.info()"
   ]
  },
  {
   "cell_type": "markdown",
   "id": "80f2016d",
   "metadata": {},
   "source": [
    "Counting the number of unique values present in the 'fuelType' column"
   ]
  },
  {
   "cell_type": "code",
   "execution_count": 21,
   "id": "33236c88",
   "metadata": {},
   "outputs": [
    {
     "name": "stdout",
     "output_type": "stream",
     "text": [
      "Petrol      12177\n",
      "Diesel       5762\n",
      "Hybrid         22\n",
      "Electric        2\n",
      "Other           1\n",
      "Name: fuelType, dtype: int64\n"
     ]
    }
   ],
   "source": [
    "print(df[\"fuelType\"].value_counts())"
   ]
  },
  {
   "cell_type": "markdown",
   "id": "55242f3c",
   "metadata": {},
   "source": [
    "Creating the pie chart for the Fuel Type coloumn"
   ]
  },
  {
   "cell_type": "code",
   "execution_count": 22,
   "id": "3e3da916",
   "metadata": {},
   "outputs": [
    {
     "data": {
      "image/png": "[encoded data removed]",
      "text/plain": [
       "<Figure size 432x288 with 1 Axes>"
      ]
     },
     "metadata": {},
     "output_type": "display_data"
    }
   ],
   "source": [
    "df[\"fuelType\"].value_counts().plot(kind=\"pie\", \n",
    "                                       autopct='%1.1f%%', \n",
    "                                       startangle=180)\n",
    "plt.ylabel(\"\")\n",
    "plt.show()"
   ]
  },
  {
   "cell_type": "markdown",
   "id": "fd549530",
   "metadata": {},
   "source": [
    "Finding the percentage of unique values present in the 'fuelType' column"
   ]
  },
  {
   "cell_type": "code",
   "execution_count": 23,
   "id": "d76e53d5",
   "metadata": {},
   "outputs": [
    {
     "data": {
      "text/html": [
       "<div>\n",
       "<style scoped>\n",
       "    .dataframe tbody tr th:only-of-type {\n",
       "        vertical-align: middle;\n",
       "    }\n",
       "\n",
       "    .dataframe tbody tr th {\n",
       "        vertical-align: top;\n",
       "    }\n",
       "\n",
       "    .dataframe thead th {\n",
       "        text-align: right;\n",
       "    }\n",
       "</style>\n",
       "<table border=\"1\" class=\"dataframe\">\n",
       "  <thead>\n",
       "    <tr style=\"text-align: right;\">\n",
       "      <th></th>\n",
       "      <th>fuelType</th>\n",
       "      <th>no_of_cars</th>\n",
       "      <th>% of cars</th>\n",
       "    </tr>\n",
       "  </thead>\n",
       "  <tbody>\n",
       "    <tr>\n",
       "      <th>0</th>\n",
       "      <td>Petrol</td>\n",
       "      <td>12177</td>\n",
       "      <td>67.79</td>\n",
       "    </tr>\n",
       "    <tr>\n",
       "      <th>1</th>\n",
       "      <td>Diesel</td>\n",
       "      <td>5762</td>\n",
       "      <td>32.08</td>\n",
       "    </tr>\n",
       "    <tr>\n",
       "      <th>2</th>\n",
       "      <td>Hybrid</td>\n",
       "      <td>22</td>\n",
       "      <td>0.12</td>\n",
       "    </tr>\n",
       "    <tr>\n",
       "      <th>3</th>\n",
       "      <td>Electric</td>\n",
       "      <td>2</td>\n",
       "      <td>0.01</td>\n",
       "    </tr>\n",
       "    <tr>\n",
       "      <th>4</th>\n",
       "      <td>Other</td>\n",
       "      <td>1</td>\n",
       "      <td>0.01</td>\n",
       "    </tr>\n",
       "  </tbody>\n",
       "</table>\n",
       "</div>"
      ],
      "text/plain": [
       "   fuelType  no_of_cars  % of cars\n",
       "0    Petrol       12177      67.79\n",
       "1    Diesel        5762      32.08\n",
       "2    Hybrid          22       0.12\n",
       "3  Electric           2       0.01\n",
       "4     Other           1       0.01"
      ]
     },
     "metadata": {},
     "output_type": "display_data"
    }
   ],
   "source": [
    "df_fuelType = pd.DataFrame(df[\"fuelType\"].value_counts())\n",
    "df_fuelType = df_fuelType.reset_index()\n",
    "df_fuelType = df_fuelType.rename(columns={\"index\":\"fuelType\",\n",
    "                                          \"fuelType\":\"no_of_cars\"})\n",
    "\n",
    "df_fuelType[\"% of cars\"] = (df_fuelType[\"no_of_cars\"]/df.shape[0])*100\n",
    "\n",
    "df_fuelType = df_fuelType.round(2)\n",
    "\n",
    "display(df_fuelType)"
   ]
  },
  {
   "cell_type": "markdown",
   "id": "b611652d",
   "metadata": {},
   "source": [
    "#### Creating a Barplot for the 'fuelType' column"
   ]
  },
  {
   "cell_type": "code",
   "execution_count": 24,
   "id": "6d11ee46",
   "metadata": {},
   "outputs": [
    {
     "data": {
      "image/png": "[encoded data removed]",
      "text/plain": [
       "<Figure size 432x288 with 1 Axes>"
      ]
     },
     "metadata": {
      "needs_background": "light"
     },
     "output_type": "display_data"
    }
   ],
   "source": [
    "sns.barplot(x=\"fuelType\", \n",
    "            y=\"% of cars\", \n",
    "            data=df_fuelType, \n",
    "            color=\"green\",\n",
    "            alpha=0.8)\n",
    "\n",
    "plt.xlabel(\"Types of fuel\")\n",
    "plt.ylabel(\"% of cars\")\n",
    "plt.title(\"Percentage of cars present in each fuelType\")\n",
    "\n",
    "plt.yticks(np.arange(0,101,10))\n",
    "\n",
    "plt.show()"
   ]
  },
  {
   "cell_type": "code",
   "execution_count": null,
   "id": "ece60221",
   "metadata": {},
   "outputs": [],
   "source": []
  }
 ],
 "metadata": {
  "kernelspec": {
   "display_name": "Python 3 (ipykernel)",
   "language": "python",
   "name": "python3"
  },
  "language_info": {
   "codemirror_mode": {
    "name": "ipython",
    "version": 3
   },
   "file_extension": ".py",
   "mimetype": "text/x-python",
   "name": "python",
   "nbconvert_exporter": "python",
   "pygments_lexer": "ipython3",
   "version": "3.9.7"
  }
 },
 "nbformat": 4,
 "nbformat_minor": 5
}
